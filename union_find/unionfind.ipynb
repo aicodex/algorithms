{
 "cells": [
  {
   "cell_type": "markdown",
   "metadata": {},
   "source": [
    "The union find algorithm allows one assign labels to disjoint sets of nodes in a graph"
   ]
  },
  {
   "cell_type": "code",
   "execution_count": 4,
   "metadata": {
    "collapsed": false
   },
   "outputs": [
    {
     "name": "stdout",
     "output_type": "stream",
     "text": [
      "node 0 -> 0\n",
      "node 1 -> 0\n",
      "node 2 -> 0\n",
      "node 3 -> 0\n",
      "node 4 -> 0\n",
      "node 5 -> 5\n",
      "node 6 -> 5\n",
      "node 7 -> 5\n",
      "node 8 -> 5\n",
      "node 9 -> 9\n",
      "node 10 -> 9\n"
     ]
    }
   ],
   "source": [
    "class UnionFind(object):\n",
    "    def __init__(self, size):\n",
    "        # we create a list where the index is the node_id\n",
    "        # and the value is the node_id's parent\n",
    "        self.node2parent = range(size)\n",
    "        \n",
    "    \n",
    "    def merge(self, a, b):\n",
    "        a_parent = self.find_parent(a)\n",
    "        b_parent = self.find_parent(b)\n",
    "        if a_parent == b_parent:\n",
    "            return\n",
    "        \n",
    "        if a_parent < b_parent:\n",
    "            self.node2parent[b] = a_parent\n",
    "        else:\n",
    "            self.node2parent[a] = b_parent\n",
    "\n",
    "\n",
    "        \n",
    "    def find_parent(self, a):\n",
    "        parent = self.node2parent[a]\n",
    "        while True:\n",
    "            if parent == self.node2parent[parent]:\n",
    "                return parent\n",
    "            else:\n",
    "                parent = self.node2parent[parent]\n",
    "\n",
    "graph_edges = [\n",
    "    (0,1),\n",
    "    (1,0),\n",
    "    (1,2),\n",
    "    (3,4),\n",
    "    (1,3),\n",
    "    (5,6),\n",
    "    (5,7),\n",
    "    (7,8),\n",
    "    (9,10)\n",
    "]\n",
    "\n",
    "uf = UnionFind(11)\n",
    "for a,b in graph_edges:\n",
    "    uf.merge(a,b)\n",
    "\n",
    "for i in range(11):\n",
    "    print(\"node %s -> %s\" % (i,uf.find_parent(i)))\n",
    "\n",
    "            "
   ]
  }
 ],
 "metadata": {
  "kernelspec": {
   "display_name": "Python 2",
   "language": "python",
   "name": "python2"
  },
  "language_info": {
   "codemirror_mode": {
    "name": "ipython",
    "version": 2
   },
   "file_extension": ".py",
   "mimetype": "text/x-python",
   "name": "python",
   "nbconvert_exporter": "python",
   "pygments_lexer": "ipython2",
   "version": "2.7.9"
  }
 },
 "nbformat": 4,
 "nbformat_minor": 0
}
