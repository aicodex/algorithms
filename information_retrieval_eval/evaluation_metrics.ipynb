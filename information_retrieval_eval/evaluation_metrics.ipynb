{
 "cells": [
  {
   "cell_type": "markdown",
   "metadata": {},
   "source": [
    "$$\n",
    "    x \\in [-1,1]\\\\\n",
    "    \\sum_{i=0}^{10}\\sum_{j=0}^{10} x_{ij} \\\\\n",
    "    \\hat{y}\\\\\n",
    "    \\\\\n",
    "    \\underset{x}{\\arg \\mathrm{sort}} \\cos{\\theta}\n",
    "    \\\\\n",
    "    \\\\\n",
    "    x \\in \\mathbb{R}^d\\\\\n",
    "    \\frac{n!}{k!(n!-k!)} = {n \\choose k}\\\\\n",
    "    \\epsilon \\alpha \\eta \\beta B\n",
    "$$"
   ]
  },
  {
   "cell_type": "code",
   "execution_count": 81,
   "metadata": {
    "collapsed": false
   },
   "outputs": [
    {
     "name": "stdout",
     "output_type": "stream",
     "text": [
      "Populating the interactive namespace from numpy and matplotlib\n"
     ]
    }
   ],
   "source": [
    "%pylab inline\n",
    "figsize(6,6)\n",
    "\n"
   ]
  },
  {
   "cell_type": "code",
   "execution_count": 1,
   "metadata": {
    "collapsed": false
   },
   "outputs": [],
   "source": [
    "from sklearn.datasets import fetch_mldata\n",
    "from sklearn.decomposition import PCA\n",
    "from scipy.spatial import distance_matrix\n",
    "\n",
    "mnist = fetch_mldata('MNIST original')\n",
    "Y = mnist['target']\n",
    "X = mnist['data']\n"
   ]
  },
  {
   "cell_type": "code",
   "execution_count": 121,
   "metadata": {
    "collapsed": false
   },
   "outputs": [
    {
     "data": {
      "text/plain": [
       "0.79166666666666663"
      ]
     },
     "execution_count": 121,
     "metadata": {},
     "output_type": "execute_result"
    }
   ],
   "source": [
    "import numpy as np\n",
    "from sklearn.metrics import average_precision_score\n",
    "\n",
    "y_true = np.array([0, 0, 1, 1])\n",
    "y_scores = np.array([0.1, 0.4, 0.35, 0.8])\n",
    "average_precision_score(y_true, y_scores)"
   ]
  },
  {
   "cell_type": "code",
   "execution_count": 2,
   "metadata": {
    "collapsed": false
   },
   "outputs": [],
   "source": [
    "def compute_mean_average_precision(y_true, y_scores):\n",
    "    \"\"\"\n",
    "\n",
    "    y_true.shape = (n_queries, n_samples) or (n_queries, n_samples, n_classes)\n",
    "    y_scores.shape = (n_queries, n_samples) or (n_queries, n_samples, n_classes)\n",
    "    \n",
    "    \n",
    "    example:\n",
    "    \n",
    "        y_true = np.array([\n",
    "           [0,0,1,1],\n",
    "           [0,1,1,0],\n",
    "           [0,0,0,1],\n",
    "        ])\n",
    "        y_scores = np.array([\n",
    "           [.2,.4,.5,.6],\n",
    "           [.1,.2,.15,.8],\n",
    "           [.0,.2,.8,.7],\n",
    "        ])\n",
    "        compute_mean_average_precision(y_true, y_scores)\n",
    "\n",
    "    \"\"\"\n",
    "    import numpy as np\n",
    "    from sklearn.metrics import average_precision_score\n",
    "\n",
    "    mAP = 0\n",
    "    for i in range(y_true.shape[0]):\n",
    "        mAP += average_precision_score(y_true[i], y_scores[i])\n",
    "    \n",
    "    mAP /= float(y_true.shape[0])\n",
    "    return mAP\n",
    "\n",
    "def compute_nn_average_recall_at_r(true_nn_index, ranked_indices):\n",
    "    \"\"\"\n",
    "    https://hal.inria.fr/inria-00514462v2/document\n",
    "    \n",
    "    true_nn_index.shape = (n_samples,)\n",
    "    ranked_indices.shape = (n_samples, r)\n",
    "    \"\"\"\n",
    "    average_recall = 0.0\n",
    "    for i in range(true_nn_index.shape[0]):\n",
    "        average_recall += np.sum(true_nn_index[i] == ranked_indices[i])\n",
    "    average_recall /= float(true_nn_index.shape[0])\n",
    "    return average_recall\n",
    "        \n",
    "    \n"
   ]
  },
  {
   "cell_type": "code",
   "execution_count": 3,
   "metadata": {
    "collapsed": false
   },
   "outputs": [
    {
     "name": "stderr",
     "output_type": "stream",
     "text": [
      "ERROR: Line magic function `%display` not found.\n"
     ]
    }
   ],
   "source": []
  }
 ],
 "metadata": {
  "kernelspec": {
   "display_name": "Python 2",
   "language": "python",
   "name": "python2"
  },
  "language_info": {
   "codemirror_mode": {
    "name": "ipython",
    "version": 2
   },
   "file_extension": ".py",
   "mimetype": "text/x-python",
   "name": "python",
   "nbconvert_exporter": "python",
   "pygments_lexer": "ipython2",
   "version": "2.7.9"
  }
 },
 "nbformat": 4,
 "nbformat_minor": 0
}
