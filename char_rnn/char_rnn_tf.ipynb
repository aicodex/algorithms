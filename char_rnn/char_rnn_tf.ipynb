{
 "cells": [
  {
   "cell_type": "code",
   "execution_count": 1,
   "metadata": {
    "collapsed": false
   },
   "outputs": [
    {
     "name": "stdout",
     "output_type": "stream",
     "text": [
      "Populating the interactive namespace from numpy and matplotlib\n"
     ]
    }
   ],
   "source": [
    "%pylab inline"
   ]
  },
  {
   "cell_type": "code",
   "execution_count": 3,
   "metadata": {
    "collapsed": false
   },
   "outputs": [],
   "source": [
    "\n",
    "ohe = OneHotEncoder(sparse=False)\n",
    "\n",
    "text = \"raw data\"\n",
    "vocab = sorted(list(set(text)))\n",
    "x_cat = np.array([vocab.index(c) for c in text])\n",
    "x = ohe.fit_transform(x_cat.reshape(-1,1))"
   ]
  },
  {
   "cell_type": "code",
   "execution_count": 146,
   "metadata": {
    "collapsed": false,
    "scrolled": false
   },
   "outputs": [
    {
     "name": "stderr",
     "output_type": "stream",
     "text": [
      "WARNING:tensorflow:<tensorflow.python.ops.rnn_cell.LSTMCell object at 0x114708890>: Using a concatenated state is slower and will soon be deprecated.  Use state_is_tuple=True.\n",
      "WARNING:tensorflow:<tensorflow.python.ops.rnn_cell.LSTMCell object at 0x1127bf0d0>: Using a concatenated state is slower and will soon be deprecated.  Use state_is_tuple=True.\n"
     ]
    },
    {
     "name": "stdout",
     "output_type": "stream",
     "text": [
      "1.80371\n",
      "1.80366\n",
      "1.80362\n"
     ]
    }
   ],
   "source": [
    "import tensorflow as tf\n",
    "\n",
    "class Symbols:\n",
    "    pass\n",
    "\n",
    "def build_graph(time_steps=2, input_dims=6):\n",
    "    graph = tf.Graph()\n",
    "    syms = Symbols()  # just a container for variables we'll want to interact with later on\n",
    "\n",
    "    with graph.as_default():\n",
    "        \n",
    "        # setup data\n",
    "        syms.x = tf.placeholder(tf.float32, (None, time_steps, input_dims))\n",
    "        \n",
    "        # construct 2 layer lstm cell\n",
    "        layer0 = tf.nn.rnn_cell.LSTMCell(num_units=4)\n",
    "        layer1 = tf.nn.rnn_cell.LSTMCell(num_units=6)\n",
    "        cell = tf.nn.rnn_cell.MultiRNNCell([layer0, layer1], state_is_tuple=True)\n",
    "        syms.outputs, syms.last_state = tf.nn.dynamic_rnn(cell, syms.x, dtype=tf.float32)\n",
    "        \n",
    "        # get last rnn output\n",
    "        last_index = syms.outputs.get_shape()[1] - 1\n",
    "        syms.outputs_tmajor = tf.transpose(syms.outputs, [1,0,2])\n",
    "        syms.last_output = tf.gather(syms.outputs_tmajor, last_index)\n",
    "        \n",
    "        # we use this mainly for test time\n",
    "        syms.last_output_softmax = tf.nn.softmax(syms.last_output)\n",
    "        \n",
    "        # book keeping\n",
    "        syms.saver = tf.train.Saver()\n",
    "        \n",
    "    return graph, syms\n",
    "\n",
    "def do_train(graph, syms, data):\n",
    "    total_len  = data.shape[0]\n",
    "    input_dim  = data.shape[1]\n",
    "    time_steps = 2\n",
    "    batch_size = 3\n",
    "\n",
    "    # setup additional operations for training\n",
    "    with graph.as_default():\n",
    "        # setup loss\n",
    "        syms.y = tf.placeholder(tf.float32, (None, 6))\n",
    "        syms.loss = tf.reduce_mean(tf.nn.softmax_cross_entropy_with_logits(syms.last_output, syms.y))\n",
    "\n",
    "        # training infrastructure\n",
    "        syms.optimizer = tf.train.AdadeltaOptimizer(learning_rate=.1)\n",
    "        syms.minimize = syms.optimizer.minimize(syms.loss)\n",
    "        \n",
    "    with tf.Session(graph=graph) as sess:\n",
    "        sess.run(tf.initialize_all_variables())\n",
    "        for epoch in range(3):\n",
    "            for t in range(total_len-time_steps-batch_size-2):\n",
    "                batch_x = []\n",
    "                batch_y = []\n",
    "                for offset in range(batch_size):\n",
    "                    start = t+offset\n",
    "                    end = start+time_steps\n",
    "                    x = data[start:end, :]\n",
    "                    y = data[end+1]\n",
    "                    batch_x.append(x)\n",
    "                    batch_y.append(y)\n",
    "            \n",
    "                inputs = {}\n",
    "                inputs[syms.x] = np.array(batch_x)\n",
    "                inputs[syms.y] = np.array(batch_y)\n",
    "                outputs = sess.run([syms.minimize, syms.last_output, syms.loss], inputs)\n",
    "                print outputs[2]\n",
    "                syms.saver.save(sess, \"model_0.ckpt\")\n",
    "\n",
    "def do_eval():\n",
    "    # with tf.Session(graph=graph) as sess:\n",
    "    #     s.saver.restore(sess, \"model_0.ckpt\")\n",
    "    #     inputs = {}\n",
    "    #     inputs[s.x] = x.astype(np.float32)[:3, :].reshape(1, 3, 6)\n",
    "    #     y2 = sess.run(s.outputs, inputs)\n",
    "    pass\n",
    "    \n",
    "\n",
    "\n",
    "        \n",
    "train_graph, syms = build_graph()\n",
    "do_train(train_graph, syms, x)\n",
    "\n",
    "\n",
    "\n"
   ]
  },
  {
   "cell_type": "code",
   "execution_count": 152,
   "metadata": {
    "collapsed": false
   },
   "outputs": [
    {
     "name": "stderr",
     "output_type": "stream",
     "text": [
      "WARNING:tensorflow:<tensorflow.python.ops.rnn_cell.LSTMCell object at 0x111057e90>: Using a concatenated state is slower and will soon be deprecated.  Use state_is_tuple=True.\n",
      "WARNING:tensorflow:<tensorflow.python.ops.rnn_cell.LSTMCell object at 0x1122c6790>: Using a concatenated state is slower and will soon be deprecated.  Use state_is_tuple=True.\n"
     ]
    },
    {
     "name": "stdout",
     "output_type": "stream",
     "text": [
      "[[ 0.02649736 -0.00723264  0.00877121  0.01212392  0.00653472 -0.02457531]]\n",
      "(1, 8)\n",
      "(1, 12)\n"
     ]
    }
   ],
   "source": [
    "eval_graph, syms = build_graph(time_steps=2)\n",
    "with tf.Session(graph=eval_graph) as sess:\n",
    "    syms.saver.restore(sess, \"model_0.ckpt\")\n",
    "    inputs = {}\n",
    "    inputs[syms.x] = x.astype(np.float32)[:2, :].reshape(1, 2, 6)\n",
    "    y_hat, state = sess.run([syms.last_output, syms.last_state], inputs)\n",
    "    print y2\n",
    "    print state[0].shape\n",
    "    print state[1].shape\n"
   ]
  }
 ],
 "metadata": {
  "kernelspec": {
   "display_name": "Python 2",
   "language": "python",
   "name": "python2"
  },
  "language_info": {
   "codemirror_mode": {
    "name": "ipython",
    "version": 2
   },
   "file_extension": ".py",
   "mimetype": "text/x-python",
   "name": "python",
   "nbconvert_exporter": "python",
   "pygments_lexer": "ipython2",
   "version": "2.7.11"
  }
 },
 "nbformat": 4,
 "nbformat_minor": 0
}
