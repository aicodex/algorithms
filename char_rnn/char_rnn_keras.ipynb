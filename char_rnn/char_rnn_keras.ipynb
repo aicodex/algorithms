{
 "cells": [
  {
   "cell_type": "code",
   "execution_count": 4,
   "metadata": {
    "collapsed": false
   },
   "outputs": [
    {
     "name": "stdout",
     "output_type": "stream",
     "text": [
      "Populating the interactive namespace from numpy and matplotlib\n"
     ]
    }
   ],
   "source": [
    "%pylab inline\n",
    "import os; os.environ['KERAS_BACKEND'] = 'tensorflow'\n",
    "import numpy as np\n",
    "from sklearn.preprocessing import OneHotEncoder\n"
   ]
  },
  {
   "cell_type": "code",
   "execution_count": 5,
   "metadata": {
    "collapsed": true
   },
   "outputs": [],
   "source": [
    "class CharTransformer:\n",
    "    def __init__(self):\n",
    "        pass\n",
    "    \n",
    "    def build_vocab(self, text):\n",
    "        self.vocab = sorted(list(set(text)))\n",
    "        self.vocab_size = len(self.vocab)\n",
    "    \n",
    "    def encode_one_hot(self, char):\n",
    "        k = self.vocab.index(char)\n",
    "        arr = np.zeros(self.vocab_size, dtype=np.bool8)\n",
    "        arr[k] = 1\n",
    "        return arr\n",
    "    \n",
    "    def decode_one_hot(self, arr):\n",
    "        idx = np.argmax(arr)\n",
    "        return self.vocab[idx]\n",
    "    \n",
    "    def batch_encode_one_hot(self, text):\n",
    "        return np.array([self.encode_one_hot(c) for c in text])"
   ]
  },
  {
   "cell_type": "code",
   "execution_count": 6,
   "metadata": {
    "collapsed": false
   },
   "outputs": [],
   "source": [
    "def rnn_sliding_window_indices(seq_len, time_steps, batch_size, epochs=1):\n",
    "    from collections import deque\n",
    "\n",
    "    i = 0\n",
    "    assert seq_len >= time_steps + batch_size + 2, \"sequence must be larger than time_steps+batch_size+2\"\n",
    "    while True:\n",
    "        if i > seq_len - time_steps - batch_size - 2:\n",
    "            if epochs <= 0:\n",
    "                break\n",
    "            epochs -= 1\n",
    "            i = 0        \n",
    "        batch = []\n",
    "        for j in range(batch_size):\n",
    "            x_start = i + j\n",
    "            x_stop = x_start + time_steps\n",
    "            y_start = x_start + 1\n",
    "            y_stop = x_stop + 1\n",
    "            batch.append((x_start, x_stop, y_start, y_stop))\n",
    "        yield batch\n",
    "        i += 1\n",
    "\n",
    "def rnn_data_gen(seq, time_steps=None, batch_size=None, epochs=None, last_label_only=True):\n",
    "    windows = rnn_sliding_window_indices(seq.shape[0], \n",
    "                                         time_steps=time_steps,\n",
    "                                         batch_size=batch_size,\n",
    "                                         epochs=epochs)\n",
    "    for batch_indices in windows:\n",
    "        x_batch = []\n",
    "        y_batch = []\n",
    "        for x_start, x_stop, y_start, y_stop in batch_indices:\n",
    "            x_batch.append(seq[x_start:x_stop])\n",
    "            if last_label_only:\n",
    "                y_batch.append(seq[y_stop-1])\n",
    "            else:\n",
    "                y_batch.append(seq[y_start:y_stop])\n",
    "        yield (np.array(x_batch), np.array(y_batch))"
   ]
  },
  {
   "cell_type": "code",
   "execution_count": 7,
   "metadata": {
    "collapsed": false
   },
   "outputs": [],
   "source": [
    "# Quotes from Rick from Rick and Morty\n",
    "\n",
    "TEXT = \"\"\"\n",
    "Ohh yea, you gotta get schwifty.\n",
    "He's not pressing charges... That's gotta be the \"you shot me\" equivalent of not being mad.\n",
    "Get off the high road Summer. We all got pink eye because you wouldn't stop texting on the toilet.\n",
    "He's a real piece of shit.\n",
    "I'm not looking for judgement, just a yes or no. Can you assimilate a giraffe?\n",
    "We need a hang glider, and a crotch less uncle sam costume, and I want the entire field of your largest stadium covered end to end with naked red heads, and I want the stands packed with every man that remotely resembles my father.\n",
    "Yea... If you spend all day shuffling words around you can make anything sound bad... Morty..\n",
    "Like nothing shady ever happened in a fully furnished office? You ever hear about Wall Street Morty? You know what those guys do in their fancy board rooms? They take their balls and dip 'em in cocaine and wipe 'em all over each other. You know Grandpa goes around and he does his business in public because grandpa isn't shady.\n",
    "There is no god, in your face! One dot muthafucka!\n",
    "Not today bitch!\n",
    "That guy is the Red Grin Grumbold of pretending he knows what's going on... Oh you agree huh? You like that Red Grin Grumbold reference? Well guess what, I made him up. You really are your father's children. Think for yourselves, don't be sheep.\n",
    "Yo! What up my glip glops!\n",
    "Then it's time to get your beak wet tonight playa!\n",
    "It's like the N word and the C word had a baby, and it was raised by all the bad words for Jews.\n",
    "Don't break an arm jerking yourself off Morty.\n",
    "25 shmeckles? I-I-I-I don't even know what that- what is that? Is that a lot?\n",
    "ALLAH BLEHHHH AKBAR\n",
    "Me irresponsible?? All I wanted was for you to hand me a screwdriver! But instead you had me buckle down and...make you a...roofie...juice serum, so you can roofie that poor girl at your school. W-w-w-w--are you kidding me, Morty?! You're really gonna try to take the high road on this one?? Y'know your-you're a little creep, Morty! Your-your-your-you're just a little creepy creep person!!\n",
    "I don't like it here Morty. I can't abide bureaucracy. I don't like being told where to go and what to do. I consider it a violation. Did you get those seeds all the way up your butt?\n",
    "\"I don't think we can perform our new song, The Recipe For Concentrated Dark Matter for a crowd this tiny!\"\n",
    "I'll be with Reuben in my workshop while you guys are having another day in Phil Collin's proverbial paradise.\n",
    "\"I'll tell you how I feel about school, Jerry: it's a waste of time. Bunch of people runnin' around bumpin' into each other, got a guy up front says, '2 + 2,' and the people in the back say, '4.' Then the bell rings and they give you a carton of milk and a piece of paper that says you can go take a dump or somethin'. I mean, it's not a place for smart people, Jerry. I know that's not a popular opinion, but that's my two cents on the issue.\"\n",
    "Monument to Compromise.\n",
    "I mixed in some Praying Mantis DNA. You know a Praying Mantis is the exact opposite of a Vole, Morty? They mate once and then bluergh cut each other's heads off.\n",
    "I'm sorry, Morty. It's a bummer. In reality you're as dumb as they come.\n",
    "I'm sorry Summer, your opinion means very little to me.\n",
    "ISN'T IT OBVIOUS MORTY? I FROZE HIM.\n",
    "Its a device Morty, that when you put it in your ear, you can enter people's dreams Morty. Its just like that movie that you keep crowing about.\n",
    "It's a figure of speech, Morty! They're bureaucrats! I don't respect them. Just keep shooting, Morty! You have no idea what prison is like here!\n",
    "Its fine, everythings is fine. theres an infinite number of realities morty, and in a few dozens of those i got lucky and turned everything back to normal\n",
    "Its not like we can do this every week, we get 3 or 4 more of these tops.\n",
    "Lemme hear everybody say hey-yo! All the ladies say yeaaah! Everybody over thirty do this with your hand! Everybody with a red shirt jump up and down! Yo, everyone whose first name begins with an L who isn't hispanic, walk in a circle the same number of times as the square root of your age times teeenn!\n",
    "Listen, Morty, I hate to break it to you but what people call \"love\" is just a chemical reaction that compels animals to breed.\n",
    "Puffy vagina\n",
    "Morty, can you get to the left nipple?\n",
    "Not for the men they cheat on.\n",
    "Sometimes science is a lot more art, than science. A lot of people don't get that.\n",
    "That's Right Morty! This is gonna be a lot like that. Except you know. Its gonna~Belch~ make sense.\n",
    "There is no god, Summer; gotta rip that band-aid off now you'll thank me later.\n",
    "They'll just fall right out of my ass! I've done this too many times!\n",
    "They're not infinite universes left in sync with the show,\n",
    "They're robots Morty! It's okay to shoot them! They're just robots!\n",
    "WUBBA LUBBA DUB DUBS!!!\n",
    "Oh, I'm sorry Morty, are you the scientist or are you the kid who wanted to get laid?\n",
    "THOSE GUYS ARE INSIDE YOU BUILDING A PIECE OF SHIT ETHAN!! THEY'RE INSIDE YOU BUILDING A MONUMENT TO COMPROMISE!! fuck them... fuck those people... fuck this whole thing ETHAN.\n",
    "This isn't Game of Thrones, Morty\n",
    "We don't whitewash it either, Morty. I mean, the pirates are really rapey.\n",
    "Well, she's my daughter, Summer. I outrank you. Or, family means nothing, in which case, don't play that card.\n",
    "We're gonna nine eleven this bitch unless Morty gets better math grades!\n",
    "Wha, me irresponsible ?! All I wanted you to do was to hand me a screwdriver, Morty !\n",
    "What about the reality where Hitler cured cancer, Morty? The answer is: Don't think about it.\n",
    "What are you looking at, mother fucker!\n",
    "What just happened back there?\" \"Why don't you ask the smartest people in the universe, Jerry? Oh yeah belch you can't. They blew up.\n",
    "Whoa, spoilers! I'm a whole season behind.\n",
    "Wow I really crononberg'd up the whole place huh Morty, just a bunch a cronenbergs walkin around\n",
    "You ask alotta questions Morty, not very charismatic of you\n",
    "You don't have to try to impress me Morty.\n",
    "You gotta shove these seeds way up your butt morty, waay up there\n",
    "You have to turn them on Morty! The shoes need to be turned on!\n",
    "You know what a vole is, Morty? YOU KNOW WHAT A VOLE IS?\n",
    "You're growing up fast, Morty. You're going into a great big thorn straight into my ass...\n",
    "You're our boy dog, don't even trip\n",
    "You're young, you have your whole life ahead of you, and your anal cavity is still taut yet malleable.\n",
    "You're not gonna believe this, because it usually never happens, but I made a mistake\n",
    "Oh I say good sir, oh harumph, ohh a bope-a-dope-o-bobo.\n",
    "Do you know how many characters there are in the Simpsons Morty? There's like a-a BILLION CHARACTERS, M-Morty. There was an episode where Former President BUSH was their neighbor!\n",
    "GRAAAAAASSSSSSS.... tastes bad.\n",
    "No jumping in the sewer!\n",
    "Wubbalubbadubdub!\n",
    "What is this, 90's Conan?\n",
    "Lick, lickity, lick my balls!\n",
    "\"\"\"\n",
    "\n",
    "charxform = CharTransformer()\n",
    "charxform.build_vocab(TEXT)\n",
    "x_one_hot = charxform.batch_encode_one_hot(TEXT)"
   ]
  },
  {
   "cell_type": "code",
   "execution_count": 8,
   "metadata": {
    "collapsed": true
   },
   "outputs": [],
   "source": [
    "BATCH_SIZE = 64\n",
    "TIME_STEPS = 20\n",
    "INPUT_SIZE = charxform.vocab_size\n",
    "OUTPUT_SIZE = INPUT_SIZE\n",
    "NB_SAMPLES = len(TEXT) - TIME_STEPS - BATCH_SIZE - 2"
   ]
  },
  {
   "cell_type": "code",
   "execution_count": null,
   "metadata": {
    "collapsed": false
   },
   "outputs": [
    {
     "name": "stderr",
     "output_type": "stream",
     "text": [
      "Using TensorFlow backend.\n"
     ]
    },
    {
     "name": "stdout",
     "output_type": "stream",
     "text": [
      "Epoch 1/16\n"
     ]
    }
   ],
   "source": [
    "from keras.models import Sequential\n",
    "from keras.layers import LSTM\n",
    "from keras.optimizers import Adam\n",
    "from keras.callbacks import EarlyStopping, ModelCheckpoint\n",
    "\n",
    "gen = rnn_data_gen(x_one_hot, time_steps=TIME_STEPS, batch_size=BATCH_SIZE, epochs=2000)\n",
    "opt = Adam()\n",
    "early_stop_cb = EarlyStopping(monitor='loss', patience=0, verbose=0, mode='auto')\n",
    "model_ckpt_cb = ModelCheckpoint(\"model.ckpt\", monitor='loss', verbose=0, save_best_only=True, mode='auto')\n",
    "\n",
    "\n",
    "model = Sequential()\n",
    "model.add(LSTM(128, batch_input_shape=(BATCH_SIZE, TIME_STEPS, INPUT_SIZE), return_sequences=True))\n",
    "model.add(LSTM(OUTPUT_SIZE, activation=\"softmax\"))\n",
    "model.compile(opt, loss='categorical_crossentropy', metrics=['accuracy'])\n",
    "model.fit_generator(gen, samples_per_epoch=NB_SAMPLES , nb_epoch=16, verbose=2, callbacks=[model_ckpt_cb, early_stop_cb])"
   ]
  },
  {
   "cell_type": "code",
   "execution_count": null,
   "metadata": {
    "collapsed": false,
    "scrolled": false
   },
   "outputs": [],
   "source": [
    "def sample(probs, temperature):\n",
    "    # helper function to sample an index from a probability array\n",
    "    preds = np.asarray(probs).astype('float64')\n",
    "    preds = np.log(preds) / temperature\n",
    "    exp_preds = np.exp(preds)\n",
    "    preds = exp_preds / np.sum(exp_preds)\n",
    "    probas = np.random.multinomial(1, preds, 1)\n",
    "    return np.argmax(probas)\n",
    "\n",
    "def sample_chars(seed, model, max_length=100):\n",
    "    text = seed\n",
    "    while len(text) < max_length:\n",
    "        x = np.zeros((BATCH_SIZE, TIME_STEPS, INPUT_SIZE), dtype=np.float32)\n",
    "        x[0] = charxform.batch_encode_one_hot(text[-TIME_STEPS:])\n",
    "        probs = model.predict_proba(x, verbose=0)[0]\n",
    "        index = sample(probs, max(0.2, np.random.random() - .5))\n",
    "        text += charxform.vocab[index]\n",
    "    print text\n",
    "    \n",
    "\n",
    "\n",
    "model.load_weights(\"model.ckpt\")\n",
    "sample_chars(\"seedlings seedlings seedlings\", model)\n"
   ]
  }
 ],
 "metadata": {
  "kernelspec": {
   "display_name": "Python 2",
   "language": "python",
   "name": "python2"
  },
  "language_info": {
   "codemirror_mode": {
    "name": "ipython",
    "version": 2
   },
   "file_extension": ".py",
   "mimetype": "text/x-python",
   "name": "python",
   "nbconvert_exporter": "python",
   "pygments_lexer": "ipython2",
   "version": "2.7.11"
  }
 },
 "nbformat": 4,
 "nbformat_minor": 0
}
