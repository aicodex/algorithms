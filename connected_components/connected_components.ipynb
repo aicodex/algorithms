{
 "cells": [
  {
   "cell_type": "code",
   "execution_count": 70,
   "metadata": {
    "collapsed": false
   },
   "outputs": [
    {
     "name": "stdout",
     "output_type": "stream",
     "text": [
      "Populating the interactive namespace from numpy and matplotlib\n"
     ]
    }
   ],
   "source": [
    "import warnings\n",
    "warnings.filterwarnings('ignore')\n",
    "%pylab inline"
   ]
  },
  {
   "cell_type": "code",
   "execution_count": 64,
   "metadata": {
    "collapsed": true
   },
   "outputs": [],
   "source": [
    "class UnionFind(object):\n",
    "    def __init__(self, size):\n",
    "        # we create a list where the index is the node_id\n",
    "        # and the value is the node_id's parent\n",
    "        self.node2parent = range(size)\n",
    "        \n",
    "    \n",
    "    def merge(self, a, b):\n",
    "        a_parent = self.find_parent(a)\n",
    "        b_parent = self.find_parent(b)\n",
    "        if a_parent == b_parent:\n",
    "            return\n",
    "        \n",
    "        if a_parent < b_parent:\n",
    "            self.node2parent[b] = a_parent\n",
    "        else:\n",
    "            self.node2parent[a] = b_parent\n",
    "\n",
    "\n",
    "        \n",
    "    def find_parent(self, a):\n",
    "        parent = self.node2parent[a]\n",
    "        while True:\n",
    "            if parent == self.node2parent[parent]:\n",
    "                return parent\n",
    "            else:\n",
    "                parent = self.node2parent[parent]\n",
    "\n",
    "          "
   ]
  },
  {
   "cell_type": "code",
   "execution_count": 75,
   "metadata": {
    "collapsed": false
   },
   "outputs": [
    {
     "data": {
      "text/plain": [
       "array([     0,  81892,  82743, 279892, 280224, 446498])"
      ]
     },
     "execution_count": 75,
     "metadata": {},
     "output_type": "execute_result"
    },
    {
     "data": {
      "image/png": "[encoded data removed]",
      "text/plain": [
       "<matplotlib.figure.Figure at 0x12142f650>"
      ]
     },
     "metadata": {},
     "output_type": "display_data"
    }
   ],
   "source": [
    "import numpy as np\n",
    "from PIL import Image\n",
    "\n",
    "pim = Image.open(\"a.png\")\n",
    "nim = np.array(pim)\n",
    "gray = np.sum(nim, axis=2)/4\n",
    "bw = np.zeros_like(gray)\n",
    "bw[gray != 255] = 0\n",
    "bw[gray == 255] = 255\n",
    "\n",
    "rows, cols = bw.shape\n",
    "uf = UnionFind(rows*cols)\n",
    "pixel_id = lambda y,x: y*cols+x\n",
    "for i in range(0, rows):\n",
    "    for j in range(0, cols):\n",
    "        pixel = bw[i,j]\n",
    "        for di in [-1,0,1]:\n",
    "            for dj in [-1,0,1]:\n",
    "                k = min(max(0,i+di), rows-1)\n",
    "                l = min(max(0,j+dj), cols-1)\n",
    "                neighbor = bw[k,l]\n",
    "                if pixel == neighbor:\n",
    "                    uf.merge(pixel_id(i,j), pixel_id(k,l))\n",
    "            \n",
    "\n",
    "\n",
    "segmentations = np.array([uf.find_parent(i) for i in range(rows*cols)]).reshape(rows,cols)\n",
    "\n",
    "figsize(14,14)\n",
    "subplot(121)\n",
    "imshow(bw)\n",
    "subplot(122)\n",
    "imshow(segmentations)\n",
    "np.unique(segmentations)\n"
   ]
  }
 ],
 "metadata": {
  "kernelspec": {
   "display_name": "Python 2",
   "language": "python",
   "name": "python2"
  },
  "language_info": {
   "codemirror_mode": {
    "name": "ipython",
    "version": 2
   },
   "file_extension": ".py",
   "mimetype": "text/x-python",
   "name": "python",
   "nbconvert_exporter": "python",
   "pygments_lexer": "ipython2",
   "version": "2.7.9"
  }
 },
 "nbformat": 4,
 "nbformat_minor": 0
}
